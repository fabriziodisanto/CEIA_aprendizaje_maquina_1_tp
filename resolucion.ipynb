{
 "nbformat": 4,
 "nbformat_minor": 0,
 "metadata": {
  "colab": {
   "provenance": []
  },
  "kernelspec": {
   "name": "python3",
   "language": "python",
   "display_name": "Python 3 (ipykernel)"
  },
  "language_info": {
   "name": "python"
  }
 },
 "cells": [
  {
   "cell_type": "code",
   "execution_count": 30,
   "metadata": {
    "id": "fcRCOt7zAigE",
    "ExecuteTime": {
     "start_time": "2023-04-16T23:56:00.567647Z",
     "end_time": "2023-04-16T23:56:00.699676Z"
    },
    "pycharm": {
     "name": "#%%\n"
    }
   },
   "outputs": [],
   "source": [
    "import pandas as pd\n",
    "\n",
    "from imblearn.over_sampling import RandomOverSampler\n",
    "from sklearn.model_selection import train_test_split\n",
    "from sklearn.preprocessing import StandardScaler\n",
    "from sklearn.metrics import confusion_matrix, recall_score, precision_score, f1_score, accuracy_score\n",
    "\n",
    "import seaborn as sns\n",
    "import matplotlib.pyplot as plt\n",
    "\n",
    "from sklearn.tree import DecisionTreeClassifier\n",
    "from sklearn.linear_model import LogisticRegression\n",
    "from sklearn.svm import LinearSVC"
   ]
  },
  {
   "cell_type": "code",
   "execution_count": 31,
   "outputs": [],
   "source": [
    "RANDOM_STATE = 23\n",
    "TEST_SIZE = 0.2"
   ],
   "metadata": {
    "collapsed": false,
    "ExecuteTime": {
     "start_time": "2023-04-16T23:56:00.576649Z",
     "end_time": "2023-04-16T23:56:00.815702Z"
    },
    "pycharm": {
     "name": "#%%\n"
    }
   }
  },
  {
   "cell_type": "code",
   "source": [
    "# download from https://www.kaggle.com/datasets/rupakroy/online-payments-fraud-detection-dataset\n",
    "data = pd.read_csv(\"dataset.csv\")"
   ],
   "metadata": {
    "id": "c2hU8zyGEmQ0",
    "ExecuteTime": {
     "start_time": "2023-04-16T23:56:00.591652Z",
     "end_time": "2023-04-16T23:56:06.795204Z"
    },
    "pycharm": {
     "name": "#%%\n"
    }
   },
   "execution_count": 32,
   "outputs": []
  },
  {
   "cell_type": "code",
   "source": [
    "data.head()"
   ],
   "metadata": {
    "colab": {
     "base_uri": "https://localhost:8080/",
     "height": 270
    },
    "id": "v4zbKvv_EqQL",
    "outputId": "5299fe70-2a49-4b63-e6e8-56c81cd9f345",
    "ExecuteTime": {
     "start_time": "2023-04-16T23:56:06.796206Z",
     "end_time": "2023-04-16T23:56:06.811207Z"
    },
    "pycharm": {
     "name": "#%%\n"
    }
   },
   "execution_count": 33,
   "outputs": [
    {
     "data": {
      "text/plain": "   step      type    amount     nameOrig  oldbalanceOrg  newbalanceOrig   \n0     1   PAYMENT   9839.64  C1231006815       170136.0       160296.36  \\\n1     1   PAYMENT   1864.28  C1666544295        21249.0        19384.72   \n2     1  TRANSFER    181.00  C1305486145          181.0            0.00   \n3     1  CASH_OUT    181.00   C840083671          181.0            0.00   \n4     1   PAYMENT  11668.14  C2048537720        41554.0        29885.86   \n\n      nameDest  oldbalanceDest  newbalanceDest  isFraud  isFlaggedFraud  \n0  M1979787155             0.0             0.0        0               0  \n1  M2044282225             0.0             0.0        0               0  \n2   C553264065             0.0             0.0        1               0  \n3    C38997010         21182.0             0.0        1               0  \n4  M1230701703             0.0             0.0        0               0  ",
      "text/html": "<div>\n<style scoped>\n    .dataframe tbody tr th:only-of-type {\n        vertical-align: middle;\n    }\n\n    .dataframe tbody tr th {\n        vertical-align: top;\n    }\n\n    .dataframe thead th {\n        text-align: right;\n    }\n</style>\n<table border=\"1\" class=\"dataframe\">\n  <thead>\n    <tr style=\"text-align: right;\">\n      <th></th>\n      <th>step</th>\n      <th>type</th>\n      <th>amount</th>\n      <th>nameOrig</th>\n      <th>oldbalanceOrg</th>\n      <th>newbalanceOrig</th>\n      <th>nameDest</th>\n      <th>oldbalanceDest</th>\n      <th>newbalanceDest</th>\n      <th>isFraud</th>\n      <th>isFlaggedFraud</th>\n    </tr>\n  </thead>\n  <tbody>\n    <tr>\n      <th>0</th>\n      <td>1</td>\n      <td>PAYMENT</td>\n      <td>9839.64</td>\n      <td>C1231006815</td>\n      <td>170136.0</td>\n      <td>160296.36</td>\n      <td>M1979787155</td>\n      <td>0.0</td>\n      <td>0.0</td>\n      <td>0</td>\n      <td>0</td>\n    </tr>\n    <tr>\n      <th>1</th>\n      <td>1</td>\n      <td>PAYMENT</td>\n      <td>1864.28</td>\n      <td>C1666544295</td>\n      <td>21249.0</td>\n      <td>19384.72</td>\n      <td>M2044282225</td>\n      <td>0.0</td>\n      <td>0.0</td>\n      <td>0</td>\n      <td>0</td>\n    </tr>\n    <tr>\n      <th>2</th>\n      <td>1</td>\n      <td>TRANSFER</td>\n      <td>181.00</td>\n      <td>C1305486145</td>\n      <td>181.0</td>\n      <td>0.00</td>\n      <td>C553264065</td>\n      <td>0.0</td>\n      <td>0.0</td>\n      <td>1</td>\n      <td>0</td>\n    </tr>\n    <tr>\n      <th>3</th>\n      <td>1</td>\n      <td>CASH_OUT</td>\n      <td>181.00</td>\n      <td>C840083671</td>\n      <td>181.0</td>\n      <td>0.00</td>\n      <td>C38997010</td>\n      <td>21182.0</td>\n      <td>0.0</td>\n      <td>1</td>\n      <td>0</td>\n    </tr>\n    <tr>\n      <th>4</th>\n      <td>1</td>\n      <td>PAYMENT</td>\n      <td>11668.14</td>\n      <td>C2048537720</td>\n      <td>41554.0</td>\n      <td>29885.86</td>\n      <td>M1230701703</td>\n      <td>0.0</td>\n      <td>0.0</td>\n      <td>0</td>\n      <td>0</td>\n    </tr>\n  </tbody>\n</table>\n</div>"
     },
     "execution_count": 33,
     "metadata": {},
     "output_type": "execute_result"
    }
   ]
  },
  {
   "cell_type": "code",
   "source": [
    "data.info()"
   ],
   "metadata": {
    "colab": {
     "base_uri": "https://localhost:8080/"
    },
    "id": "uxOlaveDGklN",
    "outputId": "e75aa125-cdee-4339-e4bb-b497ee488d91",
    "ExecuteTime": {
     "start_time": "2023-04-16T23:56:06.812207Z",
     "end_time": "2023-04-16T23:56:06.848263Z"
    },
    "pycharm": {
     "name": "#%%\n"
    }
   },
   "execution_count": 34,
   "outputs": [
    {
     "name": "stdout",
     "output_type": "stream",
     "text": [
      "<class 'pandas.core.frame.DataFrame'>\n",
      "RangeIndex: 6362620 entries, 0 to 6362619\n",
      "Data columns (total 11 columns):\n",
      " #   Column          Dtype  \n",
      "---  ------          -----  \n",
      " 0   step            int64  \n",
      " 1   type            object \n",
      " 2   amount          float64\n",
      " 3   nameOrig        object \n",
      " 4   oldbalanceOrg   float64\n",
      " 5   newbalanceOrig  float64\n",
      " 6   nameDest        object \n",
      " 7   oldbalanceDest  float64\n",
      " 8   newbalanceDest  float64\n",
      " 9   isFraud         int64  \n",
      " 10  isFlaggedFraud  int64  \n",
      "dtypes: float64(5), int64(3), object(3)\n",
      "memory usage: 534.0+ MB\n"
     ]
    }
   ]
  },
  {
   "cell_type": "code",
   "execution_count": 35,
   "outputs": [
    {
     "data": {
      "text/plain": "0"
     },
     "execution_count": 35,
     "metadata": {},
     "output_type": "execute_result"
    }
   ],
   "source": [
    "data.isnull().sum().max()"
   ],
   "metadata": {
    "collapsed": false,
    "ExecuteTime": {
     "start_time": "2023-04-16T23:56:06.827258Z",
     "end_time": "2023-04-16T23:56:07.218345Z"
    },
    "pycharm": {
     "name": "#%%\n"
    }
   }
  },
  {
   "cell_type": "markdown",
   "source": [
    "No hay valores nulos en todo el dataset"
   ],
   "metadata": {
    "id": "znwp5boOG9aa",
    "pycharm": {
     "name": "#%% md\n"
    }
   }
  },
  {
   "cell_type": "markdown",
   "source": [
    "La variable de salida es la columna 'isFraud'. El resto serian variables de entrada.\n",
    "\n",
    "Veamos la distribucion de esa variable"
   ],
   "metadata": {
    "id": "Bggyr35TGQoQ",
    "pycharm": {
     "name": "#%% md\n"
    }
   }
  },
  {
   "cell_type": "code",
   "source": [
    "y = data['isFraud']"
   ],
   "metadata": {
    "id": "5kteYJKDHJlI",
    "ExecuteTime": {
     "start_time": "2023-04-16T23:56:07.219345Z",
     "end_time": "2023-04-16T23:56:07.265357Z"
    },
    "pycharm": {
     "name": "#%%\n"
    }
   },
   "execution_count": 36,
   "outputs": []
  },
  {
   "cell_type": "code",
   "source": [
    "y.value_counts()"
   ],
   "metadata": {
    "colab": {
     "base_uri": "https://localhost:8080/"
    },
    "id": "hVEW36vHEvs7",
    "outputId": "920e910f-0228-4886-a16c-5d1d50fd1f51",
    "ExecuteTime": {
     "start_time": "2023-04-16T23:56:07.235350Z",
     "end_time": "2023-04-16T23:56:07.275358Z"
    },
    "pycharm": {
     "name": "#%%\n"
    }
   },
   "execution_count": 37,
   "outputs": [
    {
     "data": {
      "text/plain": "isFraud\n0    6354407\n1       8213\nName: count, dtype: int64"
     },
     "execution_count": 37,
     "metadata": {},
     "output_type": "execute_result"
    }
   ]
  },
  {
   "cell_type": "markdown",
   "source": [
    "Vemos que hay muy pocas transacciones fraudulentas"
   ],
   "metadata": {
    "collapsed": false,
    "pycharm": {
     "name": "#%% md\n"
    }
   }
  },
  {
   "cell_type": "code",
   "source": [
    "X = data.drop('isFraud', axis=1)"
   ],
   "metadata": {
    "id": "n55aVJ6GHQN3",
    "ExecuteTime": {
     "start_time": "2023-04-16T23:56:07.267357Z",
     "end_time": "2023-04-16T23:56:07.473240Z"
    },
    "pycharm": {
     "name": "#%%\n"
    }
   },
   "execution_count": 38,
   "outputs": []
  },
  {
   "cell_type": "markdown",
   "source": [
    "Analicemos la variable 'type'\n",
    "\n"
   ],
   "metadata": {
    "id": "ZDNrm2_sHbPs",
    "pycharm": {
     "name": "#%% md\n"
    }
   }
  },
  {
   "cell_type": "code",
   "source": [
    "X['type'].value_counts()"
   ],
   "metadata": {
    "colab": {
     "base_uri": "https://localhost:8080/"
    },
    "id": "FdVal5RQIBRi",
    "outputId": "daa4718c-1831-4704-fd13-3637583602f3",
    "ExecuteTime": {
     "start_time": "2023-04-16T23:56:07.474241Z",
     "end_time": "2023-04-16T23:56:07.679287Z"
    },
    "pycharm": {
     "name": "#%%\n"
    }
   },
   "execution_count": 39,
   "outputs": [
    {
     "data": {
      "text/plain": "type\nCASH_OUT    2237500\nPAYMENT     2151495\nCASH_IN     1399284\nTRANSFER     532909\nDEBIT         41432\nName: count, dtype: int64"
     },
     "execution_count": 39,
     "metadata": {},
     "output_type": "execute_result"
    }
   ]
  },
  {
   "cell_type": "markdown",
   "source": [
    "Vamos a reemplazarla por dummies"
   ],
   "metadata": {
    "id": "PXCzdIL1Is10",
    "pycharm": {
     "name": "#%% md\n"
    }
   }
  },
  {
   "cell_type": "code",
   "source": [
    "dummies_type = pd.get_dummies(X['type'], prefix='type')\n",
    "dummies_type.head()"
   ],
   "metadata": {
    "colab": {
     "base_uri": "https://localhost:8080/",
     "height": 206
    },
    "id": "EzYZuqSXEzd6",
    "outputId": "f8f3f541-df4c-40d3-b98f-db67d6bb6678",
    "ExecuteTime": {
     "start_time": "2023-04-16T23:56:07.680286Z",
     "end_time": "2023-04-16T23:56:08.031364Z"
    },
    "pycharm": {
     "name": "#%%\n"
    }
   },
   "execution_count": 40,
   "outputs": [
    {
     "data": {
      "text/plain": "   type_CASH_IN  type_CASH_OUT  type_DEBIT  type_PAYMENT  type_TRANSFER\n0         False          False       False          True          False\n1         False          False       False          True          False\n2         False          False       False         False           True\n3         False           True       False         False          False\n4         False          False       False          True          False",
      "text/html": "<div>\n<style scoped>\n    .dataframe tbody tr th:only-of-type {\n        vertical-align: middle;\n    }\n\n    .dataframe tbody tr th {\n        vertical-align: top;\n    }\n\n    .dataframe thead th {\n        text-align: right;\n    }\n</style>\n<table border=\"1\" class=\"dataframe\">\n  <thead>\n    <tr style=\"text-align: right;\">\n      <th></th>\n      <th>type_CASH_IN</th>\n      <th>type_CASH_OUT</th>\n      <th>type_DEBIT</th>\n      <th>type_PAYMENT</th>\n      <th>type_TRANSFER</th>\n    </tr>\n  </thead>\n  <tbody>\n    <tr>\n      <th>0</th>\n      <td>False</td>\n      <td>False</td>\n      <td>False</td>\n      <td>True</td>\n      <td>False</td>\n    </tr>\n    <tr>\n      <th>1</th>\n      <td>False</td>\n      <td>False</td>\n      <td>False</td>\n      <td>True</td>\n      <td>False</td>\n    </tr>\n    <tr>\n      <th>2</th>\n      <td>False</td>\n      <td>False</td>\n      <td>False</td>\n      <td>False</td>\n      <td>True</td>\n    </tr>\n    <tr>\n      <th>3</th>\n      <td>False</td>\n      <td>True</td>\n      <td>False</td>\n      <td>False</td>\n      <td>False</td>\n    </tr>\n    <tr>\n      <th>4</th>\n      <td>False</td>\n      <td>False</td>\n      <td>False</td>\n      <td>True</td>\n      <td>False</td>\n    </tr>\n  </tbody>\n</table>\n</div>"
     },
     "execution_count": 40,
     "metadata": {},
     "output_type": "execute_result"
    }
   ]
  },
  {
   "cell_type": "code",
   "source": [
    "X.drop('type', axis=1, inplace=True)\n",
    "X = pd.concat([X, dummies_type], axis=1)\n",
    "X.head()"
   ],
   "metadata": {
    "colab": {
     "base_uri": "https://localhost:8080/",
     "height": 270
    },
    "id": "tVHqClCYE6Aa",
    "outputId": "dd44d9c7-1974-45ce-93e1-e7b03793587f",
    "ExecuteTime": {
     "start_time": "2023-04-16T23:56:08.031364Z",
     "end_time": "2023-04-16T23:56:08.583488Z"
    },
    "pycharm": {
     "name": "#%%\n"
    }
   },
   "execution_count": 41,
   "outputs": [
    {
     "data": {
      "text/plain": "   step    amount     nameOrig  oldbalanceOrg  newbalanceOrig     nameDest   \n0     1   9839.64  C1231006815       170136.0       160296.36  M1979787155  \\\n1     1   1864.28  C1666544295        21249.0        19384.72  M2044282225   \n2     1    181.00  C1305486145          181.0            0.00   C553264065   \n3     1    181.00   C840083671          181.0            0.00    C38997010   \n4     1  11668.14  C2048537720        41554.0        29885.86  M1230701703   \n\n   oldbalanceDest  newbalanceDest  isFlaggedFraud  type_CASH_IN   \n0             0.0             0.0               0         False  \\\n1             0.0             0.0               0         False   \n2             0.0             0.0               0         False   \n3         21182.0             0.0               0         False   \n4             0.0             0.0               0         False   \n\n   type_CASH_OUT  type_DEBIT  type_PAYMENT  type_TRANSFER  \n0          False       False          True          False  \n1          False       False          True          False  \n2          False       False         False           True  \n3           True       False         False          False  \n4          False       False          True          False  ",
      "text/html": "<div>\n<style scoped>\n    .dataframe tbody tr th:only-of-type {\n        vertical-align: middle;\n    }\n\n    .dataframe tbody tr th {\n        vertical-align: top;\n    }\n\n    .dataframe thead th {\n        text-align: right;\n    }\n</style>\n<table border=\"1\" class=\"dataframe\">\n  <thead>\n    <tr style=\"text-align: right;\">\n      <th></th>\n      <th>step</th>\n      <th>amount</th>\n      <th>nameOrig</th>\n      <th>oldbalanceOrg</th>\n      <th>newbalanceOrig</th>\n      <th>nameDest</th>\n      <th>oldbalanceDest</th>\n      <th>newbalanceDest</th>\n      <th>isFlaggedFraud</th>\n      <th>type_CASH_IN</th>\n      <th>type_CASH_OUT</th>\n      <th>type_DEBIT</th>\n      <th>type_PAYMENT</th>\n      <th>type_TRANSFER</th>\n    </tr>\n  </thead>\n  <tbody>\n    <tr>\n      <th>0</th>\n      <td>1</td>\n      <td>9839.64</td>\n      <td>C1231006815</td>\n      <td>170136.0</td>\n      <td>160296.36</td>\n      <td>M1979787155</td>\n      <td>0.0</td>\n      <td>0.0</td>\n      <td>0</td>\n      <td>False</td>\n      <td>False</td>\n      <td>False</td>\n      <td>True</td>\n      <td>False</td>\n    </tr>\n    <tr>\n      <th>1</th>\n      <td>1</td>\n      <td>1864.28</td>\n      <td>C1666544295</td>\n      <td>21249.0</td>\n      <td>19384.72</td>\n      <td>M2044282225</td>\n      <td>0.0</td>\n      <td>0.0</td>\n      <td>0</td>\n      <td>False</td>\n      <td>False</td>\n      <td>False</td>\n      <td>True</td>\n      <td>False</td>\n    </tr>\n    <tr>\n      <th>2</th>\n      <td>1</td>\n      <td>181.00</td>\n      <td>C1305486145</td>\n      <td>181.0</td>\n      <td>0.00</td>\n      <td>C553264065</td>\n      <td>0.0</td>\n      <td>0.0</td>\n      <td>0</td>\n      <td>False</td>\n      <td>False</td>\n      <td>False</td>\n      <td>False</td>\n      <td>True</td>\n    </tr>\n    <tr>\n      <th>3</th>\n      <td>1</td>\n      <td>181.00</td>\n      <td>C840083671</td>\n      <td>181.0</td>\n      <td>0.00</td>\n      <td>C38997010</td>\n      <td>21182.0</td>\n      <td>0.0</td>\n      <td>0</td>\n      <td>False</td>\n      <td>True</td>\n      <td>False</td>\n      <td>False</td>\n      <td>False</td>\n    </tr>\n    <tr>\n      <th>4</th>\n      <td>1</td>\n      <td>11668.14</td>\n      <td>C2048537720</td>\n      <td>41554.0</td>\n      <td>29885.86</td>\n      <td>M1230701703</td>\n      <td>0.0</td>\n      <td>0.0</td>\n      <td>0</td>\n      <td>False</td>\n      <td>False</td>\n      <td>False</td>\n      <td>True</td>\n      <td>False</td>\n    </tr>\n  </tbody>\n</table>\n</div>"
     },
     "execution_count": 41,
     "metadata": {},
     "output_type": "execute_result"
    }
   ]
  },
  {
   "cell_type": "markdown",
   "source": [
    "Analicemos ahora las columnas de nameOrig y nameDest"
   ],
   "metadata": {
    "id": "nJoJJINBI4y7",
    "pycharm": {
     "name": "#%% md\n"
    }
   }
  },
  {
   "cell_type": "code",
   "source": [
    "names = ['nameDest', 'nameOrig']\n",
    "X.filter(items=names).describe()"
   ],
   "metadata": {
    "colab": {
     "base_uri": "https://localhost:8080/",
     "height": 175
    },
    "id": "Qusg8PUeJPLI",
    "outputId": "05f623a9-4caa-48f4-ee21-86b30ba3d66d",
    "ExecuteTime": {
     "start_time": "2023-04-16T23:56:08.584489Z",
     "end_time": "2023-04-16T23:56:16.549615Z"
    },
    "pycharm": {
     "name": "#%%\n"
    }
   },
   "execution_count": 42,
   "outputs": [
    {
     "data": {
      "text/plain": "           nameDest     nameOrig\ncount       6362620      6362620\nunique      2722362      6353307\ntop     C1286084959  C1902386530\nfreq            113            3",
      "text/html": "<div>\n<style scoped>\n    .dataframe tbody tr th:only-of-type {\n        vertical-align: middle;\n    }\n\n    .dataframe tbody tr th {\n        vertical-align: top;\n    }\n\n    .dataframe thead th {\n        text-align: right;\n    }\n</style>\n<table border=\"1\" class=\"dataframe\">\n  <thead>\n    <tr style=\"text-align: right;\">\n      <th></th>\n      <th>nameDest</th>\n      <th>nameOrig</th>\n    </tr>\n  </thead>\n  <tbody>\n    <tr>\n      <th>count</th>\n      <td>6362620</td>\n      <td>6362620</td>\n    </tr>\n    <tr>\n      <th>unique</th>\n      <td>2722362</td>\n      <td>6353307</td>\n    </tr>\n    <tr>\n      <th>top</th>\n      <td>C1286084959</td>\n      <td>C1902386530</td>\n    </tr>\n    <tr>\n      <th>freq</th>\n      <td>113</td>\n      <td>3</td>\n    </tr>\n  </tbody>\n</table>\n</div>"
     },
     "execution_count": 42,
     "metadata": {},
     "output_type": "execute_result"
    }
   ]
  },
  {
   "cell_type": "markdown",
   "source": [
    "Tenemos aproximadamente 2700000 y 6350000 valores distintos para estas columnas categoricas que no parecieran brindar mucha informacion, y reemplazarla por dummies seria contraproducente ya que estariamos agregando casi 9000000 columnas nuevas a nuestro dataset.\n",
    "\n",
    "Por lo que no las tomaremos como variables de entrada"
   ],
   "metadata": {
    "id": "1K6kD4j_Jiw9",
    "pycharm": {
     "name": "#%% md\n"
    }
   }
  },
  {
   "cell_type": "code",
   "source": [
    "X.drop('nameDest', axis=1, inplace=True)\n",
    "X.drop('nameOrig', axis=1, inplace=True)"
   ],
   "metadata": {
    "id": "1j_zPcmiKfj-",
    "ExecuteTime": {
     "start_time": "2023-04-16T23:56:16.552614Z",
     "end_time": "2023-04-16T23:56:16.805681Z"
    },
    "pycharm": {
     "name": "#%%\n"
    }
   },
   "execution_count": 43,
   "outputs": []
  },
  {
   "cell_type": "markdown",
   "source": [
    "Veamos la matriz de correlacion"
   ],
   "metadata": {
    "id": "txQpxHQZKpEk",
    "pycharm": {
     "name": "#%% md\n"
    }
   }
  },
  {
   "cell_type": "code",
   "source": [
    "corr = data.corr(numeric_only=True)\n",
    "corr['isFraud'].sort_values()"
   ],
   "metadata": {
    "colab": {
     "base_uri": "https://localhost:8080/"
    },
    "id": "fidlBWytJ-A6",
    "outputId": "15185126-1f9a-4d55-da90-332ccbb03c57",
    "ExecuteTime": {
     "start_time": "2023-04-16T23:56:16.805681Z",
     "end_time": "2023-04-16T23:56:17.602968Z"
    },
    "pycharm": {
     "name": "#%%\n"
    }
   },
   "execution_count": 44,
   "outputs": [
    {
     "data": {
      "text/plain": "newbalanceOrig   -0.008148\noldbalanceDest   -0.005885\nnewbalanceDest    0.000535\noldbalanceOrg     0.010154\nstep              0.031578\nisFlaggedFraud    0.044109\namount            0.076688\nisFraud           1.000000\nName: isFraud, dtype: float64"
     },
     "execution_count": 44,
     "metadata": {},
     "output_type": "execute_result"
    }
   ]
  },
  {
   "cell_type": "markdown",
   "source": [
    "Vamos a escalar las variables numericas"
   ],
   "metadata": {
    "collapsed": false,
    "pycharm": {
     "name": "#%% md\n"
    }
   }
  },
  {
   "cell_type": "code",
   "execution_count": 45,
   "outputs": [],
   "source": [
    "numeric = ['newbalanceOrig', 'oldbalanceDest', 'newbalanceDest', 'oldbalanceOrg', 'step', 'amount']"
   ],
   "metadata": {
    "collapsed": false,
    "ExecuteTime": {
     "start_time": "2023-04-16T23:56:17.603967Z",
     "end_time": "2023-04-16T23:56:17.619977Z"
    },
    "pycharm": {
     "name": "#%%\n"
    }
   }
  },
  {
   "cell_type": "code",
   "execution_count": 46,
   "outputs": [
    {
     "data": {
      "text/plain": "       newbalanceOrig  oldbalanceDest  newbalanceDest  oldbalanceOrg   \ncount    6.362620e+06    6.362620e+06    6.362620e+06   6.362620e+06  \\\nmean     8.551137e+05    1.100702e+06    1.224996e+06   8.338831e+05   \nstd      2.924049e+06    3.399180e+06    3.674129e+06   2.888243e+06   \nmin      0.000000e+00    0.000000e+00    0.000000e+00   0.000000e+00   \n25%      0.000000e+00    0.000000e+00    0.000000e+00   0.000000e+00   \n50%      0.000000e+00    1.327057e+05    2.146614e+05   1.420800e+04   \n75%      1.442584e+05    9.430367e+05    1.111909e+06   1.073152e+05   \nmax      4.958504e+07    3.560159e+08    3.561793e+08   5.958504e+07   \n\n               step        amount  \ncount  6.362620e+06  6.362620e+06  \nmean   2.433972e+02  1.798619e+05  \nstd    1.423320e+02  6.038582e+05  \nmin    1.000000e+00  0.000000e+00  \n25%    1.560000e+02  1.338957e+04  \n50%    2.390000e+02  7.487194e+04  \n75%    3.350000e+02  2.087215e+05  \nmax    7.430000e+02  9.244552e+07  ",
      "text/html": "<div>\n<style scoped>\n    .dataframe tbody tr th:only-of-type {\n        vertical-align: middle;\n    }\n\n    .dataframe tbody tr th {\n        vertical-align: top;\n    }\n\n    .dataframe thead th {\n        text-align: right;\n    }\n</style>\n<table border=\"1\" class=\"dataframe\">\n  <thead>\n    <tr style=\"text-align: right;\">\n      <th></th>\n      <th>newbalanceOrig</th>\n      <th>oldbalanceDest</th>\n      <th>newbalanceDest</th>\n      <th>oldbalanceOrg</th>\n      <th>step</th>\n      <th>amount</th>\n    </tr>\n  </thead>\n  <tbody>\n    <tr>\n      <th>count</th>\n      <td>6.362620e+06</td>\n      <td>6.362620e+06</td>\n      <td>6.362620e+06</td>\n      <td>6.362620e+06</td>\n      <td>6.362620e+06</td>\n      <td>6.362620e+06</td>\n    </tr>\n    <tr>\n      <th>mean</th>\n      <td>8.551137e+05</td>\n      <td>1.100702e+06</td>\n      <td>1.224996e+06</td>\n      <td>8.338831e+05</td>\n      <td>2.433972e+02</td>\n      <td>1.798619e+05</td>\n    </tr>\n    <tr>\n      <th>std</th>\n      <td>2.924049e+06</td>\n      <td>3.399180e+06</td>\n      <td>3.674129e+06</td>\n      <td>2.888243e+06</td>\n      <td>1.423320e+02</td>\n      <td>6.038582e+05</td>\n    </tr>\n    <tr>\n      <th>min</th>\n      <td>0.000000e+00</td>\n      <td>0.000000e+00</td>\n      <td>0.000000e+00</td>\n      <td>0.000000e+00</td>\n      <td>1.000000e+00</td>\n      <td>0.000000e+00</td>\n    </tr>\n    <tr>\n      <th>25%</th>\n      <td>0.000000e+00</td>\n      <td>0.000000e+00</td>\n      <td>0.000000e+00</td>\n      <td>0.000000e+00</td>\n      <td>1.560000e+02</td>\n      <td>1.338957e+04</td>\n    </tr>\n    <tr>\n      <th>50%</th>\n      <td>0.000000e+00</td>\n      <td>1.327057e+05</td>\n      <td>2.146614e+05</td>\n      <td>1.420800e+04</td>\n      <td>2.390000e+02</td>\n      <td>7.487194e+04</td>\n    </tr>\n    <tr>\n      <th>75%</th>\n      <td>1.442584e+05</td>\n      <td>9.430367e+05</td>\n      <td>1.111909e+06</td>\n      <td>1.073152e+05</td>\n      <td>3.350000e+02</td>\n      <td>2.087215e+05</td>\n    </tr>\n    <tr>\n      <th>max</th>\n      <td>4.958504e+07</td>\n      <td>3.560159e+08</td>\n      <td>3.561793e+08</td>\n      <td>5.958504e+07</td>\n      <td>7.430000e+02</td>\n      <td>9.244552e+07</td>\n    </tr>\n  </tbody>\n</table>\n</div>"
     },
     "execution_count": 46,
     "metadata": {},
     "output_type": "execute_result"
    }
   ],
   "source": [
    "X.filter(items=numeric).describe()"
   ],
   "metadata": {
    "collapsed": false,
    "ExecuteTime": {
     "start_time": "2023-04-16T23:56:17.619977Z",
     "end_time": "2023-04-16T23:56:18.644430Z"
    },
    "pycharm": {
     "name": "#%%\n"
    }
   }
  },
  {
   "cell_type": "code",
   "execution_count": 47,
   "outputs": [],
   "source": [
    "scaler = StandardScaler()\n",
    "for col in numeric:\n",
    "    X[col] = scaler.fit_transform(X[col].values.reshape((-1, 1)))"
   ],
   "metadata": {
    "collapsed": false,
    "ExecuteTime": {
     "start_time": "2023-04-16T23:56:18.644430Z",
     "end_time": "2023-04-16T23:56:19.111535Z"
    },
    "pycharm": {
     "name": "#%%\n"
    }
   }
  },
  {
   "cell_type": "code",
   "execution_count": 48,
   "outputs": [
    {
     "data": {
      "text/plain": "       newbalanceOrig  oldbalanceDest  newbalanceDest  oldbalanceOrg   \ncount    6.362620e+06    6.362620e+06    6.362620e+06   6.362620e+06  \\\nmean     6.590049e-16    1.498762e-16   -1.340452e-16  -1.779646e-17   \nstd      1.000000e+00    1.000000e+00    1.000000e+00   1.000000e+00   \nmin     -2.924417e-01   -3.238139e-01   -3.334114e-01  -2.887164e-01   \n25%     -2.924417e-01   -3.238139e-01   -3.334114e-01  -2.887164e-01   \n50%     -2.924417e-01   -2.847734e-01   -2.749863e-01  -2.837972e-01   \n75%     -2.431065e-01   -4.638324e-02   -3.077931e-02  -2.515606e-01   \nmax      1.666523e+01    1.044120e+02    9.660911e+01   2.034149e+01   \n\n               step        amount  \ncount  6.362620e+06  6.362620e+06  \nmean  -1.909724e-16 -4.946736e-17  \nstd    1.000000e+00  1.000000e+00  \nmin   -1.703042e+00 -2.978545e-01  \n25%   -6.140381e-01 -2.756812e-01  \n50%   -3.089430e-02 -1.738653e-01  \n75%    6.435853e-01  4.779197e-02  \nmax    3.510123e+00  1.527936e+02  ",
      "text/html": "<div>\n<style scoped>\n    .dataframe tbody tr th:only-of-type {\n        vertical-align: middle;\n    }\n\n    .dataframe tbody tr th {\n        vertical-align: top;\n    }\n\n    .dataframe thead th {\n        text-align: right;\n    }\n</style>\n<table border=\"1\" class=\"dataframe\">\n  <thead>\n    <tr style=\"text-align: right;\">\n      <th></th>\n      <th>newbalanceOrig</th>\n      <th>oldbalanceDest</th>\n      <th>newbalanceDest</th>\n      <th>oldbalanceOrg</th>\n      <th>step</th>\n      <th>amount</th>\n    </tr>\n  </thead>\n  <tbody>\n    <tr>\n      <th>count</th>\n      <td>6.362620e+06</td>\n      <td>6.362620e+06</td>\n      <td>6.362620e+06</td>\n      <td>6.362620e+06</td>\n      <td>6.362620e+06</td>\n      <td>6.362620e+06</td>\n    </tr>\n    <tr>\n      <th>mean</th>\n      <td>6.590049e-16</td>\n      <td>1.498762e-16</td>\n      <td>-1.340452e-16</td>\n      <td>-1.779646e-17</td>\n      <td>-1.909724e-16</td>\n      <td>-4.946736e-17</td>\n    </tr>\n    <tr>\n      <th>std</th>\n      <td>1.000000e+00</td>\n      <td>1.000000e+00</td>\n      <td>1.000000e+00</td>\n      <td>1.000000e+00</td>\n      <td>1.000000e+00</td>\n      <td>1.000000e+00</td>\n    </tr>\n    <tr>\n      <th>min</th>\n      <td>-2.924417e-01</td>\n      <td>-3.238139e-01</td>\n      <td>-3.334114e-01</td>\n      <td>-2.887164e-01</td>\n      <td>-1.703042e+00</td>\n      <td>-2.978545e-01</td>\n    </tr>\n    <tr>\n      <th>25%</th>\n      <td>-2.924417e-01</td>\n      <td>-3.238139e-01</td>\n      <td>-3.334114e-01</td>\n      <td>-2.887164e-01</td>\n      <td>-6.140381e-01</td>\n      <td>-2.756812e-01</td>\n    </tr>\n    <tr>\n      <th>50%</th>\n      <td>-2.924417e-01</td>\n      <td>-2.847734e-01</td>\n      <td>-2.749863e-01</td>\n      <td>-2.837972e-01</td>\n      <td>-3.089430e-02</td>\n      <td>-1.738653e-01</td>\n    </tr>\n    <tr>\n      <th>75%</th>\n      <td>-2.431065e-01</td>\n      <td>-4.638324e-02</td>\n      <td>-3.077931e-02</td>\n      <td>-2.515606e-01</td>\n      <td>6.435853e-01</td>\n      <td>4.779197e-02</td>\n    </tr>\n    <tr>\n      <th>max</th>\n      <td>1.666523e+01</td>\n      <td>1.044120e+02</td>\n      <td>9.660911e+01</td>\n      <td>2.034149e+01</td>\n      <td>3.510123e+00</td>\n      <td>1.527936e+02</td>\n    </tr>\n  </tbody>\n</table>\n</div>"
     },
     "execution_count": 48,
     "metadata": {},
     "output_type": "execute_result"
    }
   ],
   "source": [
    "X.filter(items=numeric).describe()"
   ],
   "metadata": {
    "collapsed": false,
    "ExecuteTime": {
     "start_time": "2023-04-16T23:56:19.204555Z",
     "end_time": "2023-04-16T23:56:20.356813Z"
    },
    "pycharm": {
     "name": "#%%\n"
    }
   }
  },
  {
   "cell_type": "code",
   "source": [
    "X_train, X_test, y_train, y_test = train_test_split(X, y, stratify=y, random_state=RANDOM_STATE, test_size=TEST_SIZE)"
   ],
   "metadata": {
    "colab": {
     "base_uri": "https://localhost:8080/",
     "height": 345
    },
    "id": "B8CyJR0BFHpo",
    "outputId": "a5d2842f-501e-41b5-9f9e-876dfba87e27",
    "ExecuteTime": {
     "start_time": "2023-04-16T23:56:20.357815Z",
     "end_time": "2023-04-16T23:56:22.819074Z"
    },
    "pycharm": {
     "name": "#%%\n"
    }
   },
   "execution_count": 49,
   "outputs": []
  },
  {
   "cell_type": "code",
   "execution_count": 50,
   "outputs": [
    {
     "data": {
      "text/plain": "isFraud\n0    5083526\n1       6570\nName: count, dtype: int64"
     },
     "execution_count": 50,
     "metadata": {},
     "output_type": "execute_result"
    }
   ],
   "source": [
    "y_train.value_counts()"
   ],
   "metadata": {
    "collapsed": false,
    "ExecuteTime": {
     "start_time": "2023-04-16T23:56:22.820063Z",
     "end_time": "2023-04-16T23:56:22.866037Z"
    },
    "pycharm": {
     "name": "#%%\n"
    }
   }
  },
  {
   "cell_type": "code",
   "execution_count": 51,
   "outputs": [
    {
     "data": {
      "text/plain": "isFraud\n0    1270881\n1       1643\nName: count, dtype: int64"
     },
     "execution_count": 51,
     "metadata": {},
     "output_type": "execute_result"
    }
   ],
   "source": [
    "y_test.value_counts()"
   ],
   "metadata": {
    "collapsed": false,
    "ExecuteTime": {
     "start_time": "2023-04-16T23:56:22.851035Z",
     "end_time": "2023-04-16T23:56:22.878040Z"
    },
    "pycharm": {
     "name": "#%%\n"
    }
   }
  },
  {
   "cell_type": "markdown",
   "source": [
    "Utilizando oversampling, generaremos otro dataset de entrenamiento, para poder tener mas transacciones fraudulentas a la hora de entrenar el modelo y compararlo contra el dataset original."
   ],
   "metadata": {
    "collapsed": false,
    "pycharm": {
     "name": "#%% md\n"
    }
   }
  },
  {
   "cell_type": "code",
   "execution_count": 52,
   "outputs": [],
   "source": [
    "ros = RandomOverSampler(sampling_strategy='minority')"
   ],
   "metadata": {
    "collapsed": false,
    "ExecuteTime": {
     "start_time": "2023-04-16T23:56:22.868039Z",
     "end_time": "2023-04-16T23:56:22.883042Z"
    },
    "pycharm": {
     "name": "#%%\n"
    }
   }
  },
  {
   "cell_type": "code",
   "execution_count": 53,
   "outputs": [],
   "source": [
    "X_train_ros, y_train_ros = ros.fit_resample(X_train, y_train)"
   ],
   "metadata": {
    "collapsed": false,
    "ExecuteTime": {
     "start_time": "2023-04-16T23:56:22.884042Z",
     "end_time": "2023-04-16T23:56:24.733512Z"
    },
    "pycharm": {
     "name": "#%%\n"
    }
   }
  },
  {
   "cell_type": "code",
   "execution_count": 54,
   "outputs": [
    {
     "data": {
      "text/plain": "isFraud\n0    5083526\n1    5083526\nName: count, dtype: int64"
     },
     "execution_count": 54,
     "metadata": {},
     "output_type": "execute_result"
    }
   ],
   "source": [
    "y_train_ros.value_counts()"
   ],
   "metadata": {
    "collapsed": false,
    "ExecuteTime": {
     "start_time": "2023-04-16T23:56:24.733512Z",
     "end_time": "2023-04-16T23:56:24.781522Z"
    },
    "pycharm": {
     "name": "#%%\n"
    }
   }
  },
  {
   "cell_type": "markdown",
   "source": [
    "Llego la hora de probar varios modelos para quedarnos con el mejor\n",
    "Compararemos los siguientes modelos:\n",
    "\n",
    "- Logistic regression\n",
    "- Decision Tree\n",
    "- SVC (solo linearSVC debido a la gran cantidad de data que tenemos)"
   ],
   "metadata": {
    "collapsed": false,
    "pycharm": {
     "name": "#%% md\n"
    }
   }
  },
  {
   "cell_type": "code",
   "execution_count": 55,
   "outputs": [],
   "source": [
    "results = []"
   ],
   "metadata": {
    "collapsed": false,
    "ExecuteTime": {
     "start_time": "2023-04-16T23:56:24.781522Z",
     "end_time": "2023-04-16T23:56:24.797524Z"
    },
    "pycharm": {
     "name": "#%%\n"
    }
   }
  },
  {
   "cell_type": "code",
   "execution_count": 56,
   "outputs": [],
   "source": [
    "def analyze_model(y, y_pred):\n",
    "    #cm = confusion_matrix(y, y_pred)\n",
    "    #sns.heatmap(cm, annot=True, fmt=',d', cmap='rocket')\n",
    "    #plt.ylabel('Valor real')\n",
    "    #plt.xlabel('Valor predicho')\n",
    "\n",
    "    return get_model_stats(y, y_pred)\n",
    "'''\n",
    "Sabemos que por cada transacción aprobada el porcentaje de ganancia es de un\n",
    "20%, y por cada fraude aprobado se pierde el 100% del dinero de la transacción.\n",
    "'''\n",
    "def calculate_model_income(y_pred):\n",
    "    income = 0\n",
    "    for index, result in enumerate(y_pred):\n",
    "        # no marcada como fraude\n",
    "        if result == 0:\n",
    "            if data['isFraud'][index] == 1:\n",
    "                # efectivamente era un fraude\n",
    "                income -= data['amount'][index]\n",
    "            else:\n",
    "                # no era fraude\n",
    "                income += data['amount'][index] * 0.2\n",
    "\n",
    "    return income\n",
    "\n",
    "\n",
    "def get_model_stats(y, y_pred):\n",
    "    recall = recall_score(y, y_pred)\n",
    "    precision = precision_score(y, y_pred)\n",
    "    f1 = f1_score(y, y_pred)\n",
    "    accuracy = accuracy_score(y, y_pred)\n",
    "\n",
    "    income = calculate_model_income(y_pred)\n",
    "    print(income, recall, precision, f1, accuracy)\n",
    "    return income, recall, precision, f1, accuracy"
   ],
   "metadata": {
    "collapsed": false,
    "ExecuteTime": {
     "start_time": "2023-04-16T23:56:24.797524Z",
     "end_time": "2023-04-16T23:56:24.832537Z"
    },
    "pycharm": {
     "name": "#%%\n"
    }
   }
  },
  {
   "cell_type": "markdown",
   "source": [
    "Logistic Regression - No Oversampling"
   ],
   "metadata": {
    "collapsed": false,
    "pycharm": {
     "name": "#%% md\n"
    }
   }
  },
  {
   "cell_type": "code",
   "source": [
    "lr_no_os = LogisticRegression(random_state=RANDOM_STATE)\n",
    "lr_no_os.fit(X_train, y_train)\n",
    "y_test_pred = lr_no_os.predict(X_test)\n",
    "results.append(['Logistic Regression', False, *analyze_model(y_test, y_test_pred)])"
   ],
   "metadata": {
    "id": "obyoK2TAFhJc",
    "ExecuteTime": {
     "start_time": "2023-04-16T23:56:24.815533Z",
     "end_time": "2023-04-16T23:56:49.007520Z"
    },
    "pycharm": {
     "name": "#%%\n"
    }
   },
   "execution_count": 57,
   "outputs": [
    {
     "name": "stderr",
     "output_type": "stream",
     "text": [
      "C:\\Users\\Usuario\\Desktop\\TP AM1\\venv\\lib\\site-packages\\sklearn\\linear_model\\_logistic.py:458: ConvergenceWarning: lbfgs failed to converge (status=1):\n",
      "STOP: TOTAL NO. of ITERATIONS REACHED LIMIT.\n",
      "\n",
      "Increase the number of iterations (max_iter) or scale the data as shown in:\n",
      "    https://scikit-learn.org/stable/modules/preprocessing.html\n",
      "Please also refer to the documentation for alternative solver options:\n",
      "    https://scikit-learn.org/stable/modules/linear_model.html#logistic-regression\n",
      "  n_iter_i = _check_optimize_result(\n"
     ]
    },
    {
     "name": "stdout",
     "output_type": "stream",
     "text": [
      "39136616050.79571 0.43274497869750456 0.9330708661417323 0.5912681912681913 0.9992275194809686\n"
     ]
    }
   ]
  },
  {
   "cell_type": "markdown",
   "source": [
    "Logistic Regression - Oversampling"
   ],
   "metadata": {
    "collapsed": false,
    "pycharm": {
     "name": "#%% md\n"
    }
   }
  },
  {
   "cell_type": "code",
   "source": [
    "lr_os = LogisticRegression(random_state=RANDOM_STATE)\n",
    "lr_os.fit(X_train_ros, y_train_ros)\n",
    "y_test_pred = lr_os.predict(X_test)\n",
    "results.append(['Logistic Regression', True, *analyze_model(y_test, y_test_pred)])"
   ],
   "metadata": {
    "id": "USg52guVFmAE",
    "ExecuteTime": {
     "start_time": "2023-04-16T23:56:49.008528Z",
     "end_time": "2023-04-16T23:57:31.919891Z"
    },
    "pycharm": {
     "name": "#%%\n"
    }
   },
   "execution_count": 58,
   "outputs": [
    {
     "name": "stderr",
     "output_type": "stream",
     "text": [
      "C:\\Users\\Usuario\\Desktop\\TP AM1\\venv\\lib\\site-packages\\sklearn\\linear_model\\_logistic.py:458: ConvergenceWarning: lbfgs failed to converge (status=1):\n",
      "STOP: TOTAL NO. of ITERATIONS REACHED LIMIT.\n",
      "\n",
      "Increase the number of iterations (max_iter) or scale the data as shown in:\n",
      "    https://scikit-learn.org/stable/modules/preprocessing.html\n",
      "Please also refer to the documentation for alternative solver options:\n",
      "    https://scikit-learn.org/stable/modules/linear_model.html#logistic-regression\n",
      "  n_iter_i = _check_optimize_result(\n"
     ]
    },
    {
     "name": "stdout",
     "output_type": "stream",
     "text": [
      "37245622195.34243 0.9762629336579428 0.025788195951703403 0.05024905234798409 0.9523513898362624\n"
     ]
    }
   ]
  },
  {
   "cell_type": "markdown",
   "source": [
    "Decision Tree - No Oversampling"
   ],
   "metadata": {
    "collapsed": false,
    "pycharm": {
     "name": "#%% md\n"
    }
   }
  },
  {
   "cell_type": "code",
   "execution_count": 59,
   "outputs": [],
   "source": [
    "criterions = ['entropy', 'gini']\n",
    "depths = [3, 5]"
   ],
   "metadata": {
    "collapsed": false,
    "ExecuteTime": {
     "start_time": "2023-04-16T23:57:31.921094Z",
     "end_time": "2023-04-16T23:57:31.948905Z"
    },
    "pycharm": {
     "name": "#%%\n"
    }
   }
  },
  {
   "cell_type": "code",
   "execution_count": 60,
   "outputs": [
    {
     "name": "stdout",
     "output_type": "stream",
     "text": [
      "39109784704.031715 0.699939135727328 0.7334183673469388 0.7162877608221738 0.9992840999462486\n",
      "39119775289.64167 0.714546561168594 0.9310071371927042 0.8085399449035813 0.9995630730736709\n",
      "39150776081.93973 0.1898965307364577 0.9968051118210862 0.31901840490797545 0.9989532613923195\n",
      "39109608728.83373 0.7285453438831406 0.7595177664974619 0.7437092264678471 0.9993516821686663\n"
     ]
    }
   ],
   "source": [
    "for c in criterions:\n",
    "    for d in depths:\n",
    "        tree_no_os = DecisionTreeClassifier(criterion=c, max_depth=d, random_state=RANDOM_STATE)\n",
    "        tree_no_os.fit(X_train, y_train)\n",
    "        y_test_pred = tree_no_os.predict(X_test)\n",
    "        results.append([f'Decision Tree - {c} - max_depth={str(d)}', False, *analyze_model(y_test, y_test_pred)])"
   ],
   "metadata": {
    "collapsed": false,
    "ExecuteTime": {
     "start_time": "2023-04-16T23:57:31.935903Z",
     "end_time": "2023-04-16T23:59:18.255990Z"
    },
    "pycharm": {
     "name": "#%%\n"
    }
   }
  },
  {
   "cell_type": "markdown",
   "source": [
    "Decision Tree - Oversampling"
   ],
   "metadata": {
    "collapsed": false,
    "pycharm": {
     "name": "#%% md\n"
    }
   }
  },
  {
   "cell_type": "code",
   "execution_count": 61,
   "outputs": [
    {
     "name": "stdout",
     "output_type": "stream",
     "text": [
      "34644922809.97459 0.9981740718198417 0.011089473114789571 0.021935250884431993 0.8850701440601513\n",
      "37783530595.821884 0.9987827145465612 0.037049580059604445 0.07144878632850768 0.9664815752001534\n",
      "36735418274.12688 0.9202678027997565 0.019382627422828428 0.03796562503923366 0.9397834539859367\n",
      "38582466759.20006 0.9586122945830797 0.08542141230068337 0.1568646979732085 0.9866949464214427\n"
     ]
    }
   ],
   "source": [
    "for c in criterions:\n",
    "    for d in depths:\n",
    "        tree_os = DecisionTreeClassifier(criterion=c, max_depth=d, random_state=RANDOM_STATE)\n",
    "        tree_os.fit(X_train_ros, y_train_ros)\n",
    "        y_test_pred = tree_os.predict(X_test)\n",
    "        results.append([f'Decision Tree - {c} - max_depth={str(d)}', True, *analyze_model(y_test, y_test_pred)])"
   ],
   "metadata": {
    "collapsed": false,
    "ExecuteTime": {
     "start_time": "2023-04-16T23:59:18.257990Z",
     "end_time": "2023-04-17T00:01:58.992074Z"
    },
    "pycharm": {
     "name": "#%%\n"
    }
   }
  },
  {
   "cell_type": "markdown",
   "source": [
    "SVC - No Oversampling"
   ],
   "metadata": {
    "collapsed": false,
    "pycharm": {
     "name": "#%% md\n"
    }
   }
  },
  {
   "cell_type": "code",
   "execution_count": 62,
   "outputs": [
    {
     "name": "stderr",
     "output_type": "stream",
     "text": [
      "C:\\Users\\Usuario\\Desktop\\TP AM1\\venv\\lib\\site-packages\\sklearn\\svm\\_base.py:1244: ConvergenceWarning: Liblinear failed to converge, increase the number of iterations.\n",
      "  warnings.warn(\n"
     ]
    },
    {
     "name": "stdout",
     "output_type": "stream",
     "text": [
      "39138605755.65974 0.4023128423615338 0.9593613933236574 0.5668953687821613 0.9992063018064885\n"
     ]
    }
   ],
   "source": [
    "svc_no_os = LinearSVC(random_state=RANDOM_STATE)\n",
    "svc_no_os.fit(X_train, y_train)\n",
    "y_test_pred = svc_no_os.predict(X_test)\n",
    "results.append(['Linear SVC', False, *analyze_model(y_test, y_test_pred)])"
   ],
   "metadata": {
    "collapsed": false,
    "ExecuteTime": {
     "start_time": "2023-04-17T00:01:58.992074Z",
     "end_time": "2023-04-17T00:09:05.508639Z"
    },
    "pycharm": {
     "name": "#%%\n"
    }
   }
  },
  {
   "cell_type": "markdown",
   "source": [
    "SVC - Oversampling"
   ],
   "metadata": {
    "collapsed": false,
    "pycharm": {
     "name": "#%% md\n"
    }
   }
  },
  {
   "cell_type": "code",
   "execution_count": 63,
   "outputs": [
    {
     "name": "stderr",
     "output_type": "stream",
     "text": [
      "C:\\Users\\Usuario\\Desktop\\TP AM1\\venv\\lib\\site-packages\\sklearn\\svm\\_base.py:1244: ConvergenceWarning: Liblinear failed to converge, increase the number of iterations.\n",
      "  warnings.warn(\n"
     ]
    },
    {
     "name": "stdout",
     "output_type": "stream",
     "text": [
      "37317053634.25821 0.9659160073037127 0.02684189161761721 0.05223229713495812 0.954741128654548\n"
     ]
    }
   ],
   "source": [
    "svc_os = LinearSVC(random_state=RANDOM_STATE)\n",
    "svc_os.fit(X_train_ros, y_train_ros)\n",
    "y_test_pred = svc_os.predict(X_test)\n",
    "results.append(['Linear SVC', False, *analyze_model(y_test, y_test_pred)])"
   ],
   "metadata": {
    "collapsed": false,
    "ExecuteTime": {
     "start_time": "2023-04-17T00:09:05.509640Z",
     "end_time": "2023-04-17T00:27:08.726997Z"
    },
    "pycharm": {
     "name": "#%%\n"
    }
   }
  },
  {
   "cell_type": "code",
   "execution_count": 91,
   "outputs": [],
   "source": [
    "results_df = pd.DataFrame(results, columns=['Model', 'oversampling', 'income', 'recall', 'precision', 'f1', 'accuracy'])"
   ],
   "metadata": {
    "collapsed": false,
    "ExecuteTime": {
     "start_time": "2023-04-17T00:57:23.482819Z",
     "end_time": "2023-04-17T00:57:23.495822Z"
    },
    "pycharm": {
     "name": "#%%\n"
    }
   }
  },
  {
   "cell_type": "code",
   "execution_count": null,
   "outputs": [],
   "source": [
    "results_df.sort_values(by='income', ascending=False)"
   ],
   "metadata": {
    "collapsed": false,
    "ExecuteTime": {
     "start_time": "2023-04-17T00:59:28.794371Z",
     "end_time": "2023-04-17T00:59:28.823379Z"
    },
    "pycharm": {
     "name": "#%%\n"
    }
   }
  },
  {
   "cell_type": "code",
   "execution_count": null,
   "outputs": [],
   "source": [
    "results_df.sort_values(by='recall', ascending=False)"
   ],
   "metadata": {
    "collapsed": false,
    "ExecuteTime": {
     "start_time": "2023-04-17T00:59:25.230158Z",
     "end_time": "2023-04-17T00:59:25.258138Z"
    },
    "pycharm": {
     "name": "#%%\n"
    }
   }
  },
  {
   "cell_type": "code",
   "execution_count": null,
   "outputs": [],
   "source": [
    "results_df.sort_values(by='precision', ascending=False)"
   ],
   "metadata": {
    "collapsed": false,
    "ExecuteTime": {
     "start_time": "2023-04-17T00:57:24.551840Z",
     "end_time": "2023-04-17T00:57:24.567843Z"
    },
    "pycharm": {
     "name": "#%%\n"
    }
   }
  },
  {
   "cell_type": "markdown",
   "source": [
    "El modelo que nos maximiza la ganancia es el Decision Tree, usando gini y con una profundidad maxima de 3, sin oversamplear la data de training. Sin embargo, es el modelo que tiene el peor recall de todos, por lo que emplearemos un algoritmo para decidir cual es el mejor modelo"
   ],
   "metadata": {
    "collapsed": false,
    "pycharm": {
     "name": "#%% md\n"
    }
   }
  },
  {
   "cell_type": "markdown",
   "source": [
    "Para ello, pondremos foco en 3 variables, sinedo el income la mas importante, seguida por el recall, y por ultimo la precision.\n",
    "Se le asignara un puntaje a cada modelo, donde se evaluara que tan lejos estuvo del mejor modelo para esa columna especifica"
   ],
   "metadata": {
    "collapsed": false,
    "pycharm": {
     "name": "#%% md\n"
    }
   }
  },
  {
   "cell_type": "code",
   "execution_count": 95,
   "outputs": [],
   "source": [
    "results_df['score'] = 0"
   ],
   "metadata": {
    "collapsed": false,
    "ExecuteTime": {
     "start_time": "2023-04-17T00:57:25.681080Z",
     "end_time": "2023-04-17T00:57:25.696725Z"
    },
    "pycharm": {
     "name": "#%%\n"
    }
   }
  },
  {
   "cell_type": "code",
   "execution_count": 96,
   "outputs": [],
   "source": [
    "MAX_INCOME = results_df['income'].max()\n",
    "MAX_RECALL = results_df['recall'].max()\n",
    "MAX_PRECISION = results_df['precision'].max()"
   ],
   "metadata": {
    "collapsed": false,
    "ExecuteTime": {
     "start_time": "2023-04-17T00:57:25.972007Z",
     "end_time": "2023-04-17T00:57:26.005810Z"
    },
    "pycharm": {
     "name": "#%%\n"
    }
   }
  },
  {
   "cell_type": "code",
   "execution_count": 97,
   "outputs": [],
   "source": [
    "def get_score(row):\n",
    "    income_points = row['income']/MAX_INCOME\n",
    "    recall_points = row['recall']/MAX_RECALL\n",
    "    precision_points = row['precision']/MAX_PRECISION\n",
    "\n",
    "    return income_points * 5 + recall_points * 4 + precision_points * 2\n",
    "\n",
    "\n",
    "results_df['score'] = results_df.apply(get_score, axis=1)"
   ],
   "metadata": {
    "collapsed": false,
    "ExecuteTime": {
     "start_time": "2023-04-17T00:57:26.406072Z",
     "end_time": "2023-04-17T00:57:26.427493Z"
    },
    "pycharm": {
     "name": "#%%\n"
    }
   }
  },
  {
   "cell_type": "code",
   "execution_count": 98,
   "outputs": [],
   "source": [
    "results_df.drop('f1', axis=1, inplace=True)\n",
    "results_df.drop('accuracy', axis=1, inplace=True)"
   ],
   "metadata": {
    "collapsed": false,
    "ExecuteTime": {
     "start_time": "2023-04-17T00:57:27.084093Z",
     "end_time": "2023-04-17T00:57:27.093094Z"
    },
    "pycharm": {
     "name": "#%%\n"
    }
   }
  },
  {
   "cell_type": "code",
   "execution_count": 113,
   "outputs": [
    {
     "data": {
      "text/plain": "                                    Model  oversampling        income   \n3   Decision Tree - entropy - max_depth=5         False  3.911978e+10  \\\n5      Decision Tree - gini - max_depth=5         False  3.910961e+10   \n2   Decision Tree - entropy - max_depth=3         False  3.910978e+10   \n9      Decision Tree - gini - max_depth=5          True  3.858247e+10   \n7   Decision Tree - entropy - max_depth=5          True  3.778353e+10   \n1                     Logistic Regression          True  3.724562e+10   \n11                             Linear SVC         False  3.731705e+10   \n0                     Logistic Regression         False  3.913662e+10   \n10                             Linear SVC         False  3.913861e+10   \n6   Decision Tree - entropy - max_depth=3          True  3.464492e+10   \n8      Decision Tree - gini - max_depth=3          True  3.673542e+10   \n4      Decision Tree - gini - max_depth=3         False  3.915078e+10   \n\n      recall  precision     score  \n3   0.714547   0.931007  9.725693  \n5   0.728545   0.759518  9.436380  \n2   0.699939   0.733418  9.269472  \n9   0.958612   0.085421  8.937933  \n7   0.998783   0.037050  8.899724  \n1   0.976263   0.025788  8.718243  \n11  0.965916   0.026842  8.688042  \n0   0.432745   0.933071  8.603404  \n10  0.402313   0.959361  8.534531  \n6   0.998174   0.011089  8.444364  \n8   0.920268   0.019383  8.415978  \n4   0.189897   0.996805  7.760512  ",
      "text/html": "<div>\n<style scoped>\n    .dataframe tbody tr th:only-of-type {\n        vertical-align: middle;\n    }\n\n    .dataframe tbody tr th {\n        vertical-align: top;\n    }\n\n    .dataframe thead th {\n        text-align: right;\n    }\n</style>\n<table border=\"1\" class=\"dataframe\">\n  <thead>\n    <tr style=\"text-align: right;\">\n      <th></th>\n      <th>Model</th>\n      <th>oversampling</th>\n      <th>income</th>\n      <th>recall</th>\n      <th>precision</th>\n      <th>score</th>\n    </tr>\n  </thead>\n  <tbody>\n    <tr>\n      <th>3</th>\n      <td>Decision Tree - entropy - max_depth=5</td>\n      <td>False</td>\n      <td>3.911978e+10</td>\n      <td>0.714547</td>\n      <td>0.931007</td>\n      <td>9.725693</td>\n    </tr>\n    <tr>\n      <th>5</th>\n      <td>Decision Tree - gini - max_depth=5</td>\n      <td>False</td>\n      <td>3.910961e+10</td>\n      <td>0.728545</td>\n      <td>0.759518</td>\n      <td>9.436380</td>\n    </tr>\n    <tr>\n      <th>2</th>\n      <td>Decision Tree - entropy - max_depth=3</td>\n      <td>False</td>\n      <td>3.910978e+10</td>\n      <td>0.699939</td>\n      <td>0.733418</td>\n      <td>9.269472</td>\n    </tr>\n    <tr>\n      <th>9</th>\n      <td>Decision Tree - gini - max_depth=5</td>\n      <td>True</td>\n      <td>3.858247e+10</td>\n      <td>0.958612</td>\n      <td>0.085421</td>\n      <td>8.937933</td>\n    </tr>\n    <tr>\n      <th>7</th>\n      <td>Decision Tree - entropy - max_depth=5</td>\n      <td>True</td>\n      <td>3.778353e+10</td>\n      <td>0.998783</td>\n      <td>0.037050</td>\n      <td>8.899724</td>\n    </tr>\n    <tr>\n      <th>1</th>\n      <td>Logistic Regression</td>\n      <td>True</td>\n      <td>3.724562e+10</td>\n      <td>0.976263</td>\n      <td>0.025788</td>\n      <td>8.718243</td>\n    </tr>\n    <tr>\n      <th>11</th>\n      <td>Linear SVC</td>\n      <td>False</td>\n      <td>3.731705e+10</td>\n      <td>0.965916</td>\n      <td>0.026842</td>\n      <td>8.688042</td>\n    </tr>\n    <tr>\n      <th>0</th>\n      <td>Logistic Regression</td>\n      <td>False</td>\n      <td>3.913662e+10</td>\n      <td>0.432745</td>\n      <td>0.933071</td>\n      <td>8.603404</td>\n    </tr>\n    <tr>\n      <th>10</th>\n      <td>Linear SVC</td>\n      <td>False</td>\n      <td>3.913861e+10</td>\n      <td>0.402313</td>\n      <td>0.959361</td>\n      <td>8.534531</td>\n    </tr>\n    <tr>\n      <th>6</th>\n      <td>Decision Tree - entropy - max_depth=3</td>\n      <td>True</td>\n      <td>3.464492e+10</td>\n      <td>0.998174</td>\n      <td>0.011089</td>\n      <td>8.444364</td>\n    </tr>\n    <tr>\n      <th>8</th>\n      <td>Decision Tree - gini - max_depth=3</td>\n      <td>True</td>\n      <td>3.673542e+10</td>\n      <td>0.920268</td>\n      <td>0.019383</td>\n      <td>8.415978</td>\n    </tr>\n    <tr>\n      <th>4</th>\n      <td>Decision Tree - gini - max_depth=3</td>\n      <td>False</td>\n      <td>3.915078e+10</td>\n      <td>0.189897</td>\n      <td>0.996805</td>\n      <td>7.760512</td>\n    </tr>\n  </tbody>\n</table>\n</div>"
     },
     "execution_count": 113,
     "metadata": {},
     "output_type": "execute_result"
    }
   ],
   "source": [
    "results_df.sort_values(by='score', ascending=False)"
   ],
   "metadata": {
    "collapsed": false,
    "ExecuteTime": {
     "start_time": "2023-04-17T01:02:55.806675Z",
     "end_time": "2023-04-17T01:02:55.821679Z"
    },
    "pycharm": {
     "name": "#%%\n"
    }
   }
  },
  {
   "cell_type": "markdown",
   "source": [
    "En la tabla se puede ver como en los modelos donde se hizo el oversampling se obtuvo un recall bastante alto, pero la precision es bastante mala. A si mismo, se puede observar como pasa tambien lo contrario, es decir, donde no hubo oversampling, el recall no supera el 70%, pero la precision es bastante alta. Esto tiene sentido al comprender como cambia la composicion del material de entrenamiento dado en cada caso vs el material sobre el que se los evalua.\n",
    "\n",
    "Esto afecta a nuestro problema de la siguiente manera:\n",
    "\n",
    "- Los modelos que se entrenaron con la data oversampleada tienen buen recall, ya que no se les escapa casi ninguna transaccion fraudelenta, pero terminan marcando como fraudes muchisimas transacciones que eran validas (menor precision). Por lo que el banco deberia tener una persona/equipo analizando manualmente todas las transacciones marcadas como fraudulentas, y se podria sumar el costo por hora o transaccion analizada por ese equipo, para jugar con los valores de recall vs precision.\n",
    "\n",
    "- Los modelos donde no se hizo el oversampling a la data, tienen recall mas bajo, por lo que se les escapan mas transacciones fraudulentas, pero la precision general es mayor. Esto tampoco dice mucho, ya que si ponemos un modelo que siempre prediga que las transacciones son verdaderas, por mas que el recall de 0, la precision va a dar de 99%, ya que esa es la proporcion de transacciones validas."
   ],
   "metadata": {
    "collapsed": false,
    "pycharm": {
     "name": "#%% md\n"
    }
   }
  },
  {
   "cell_type": "markdown",
   "source": [
    "Asumiendo lo que mencione anteriormente, que seria que haya un costo asociado al hecho de tener un equipo que revise de manera manual todas las transacciones que marcamos como fraudulenta, me quedaria con el modelo de  Decision Tree, con entropy y max depth de 5, sin oversamplear la data de entrenamiento.\n",
    "Este modelo tuvo el 4to mejor income, sin estar tan alejado de los primeros puestos, y un recall medianamente aceptable, de ~0.7. Esto quiere decir que se le escapan aproximadamente 3 de 10 transacciones fraudulentas, pero asi y todo, para este caso concreto, tiene una de las ganancias mas altas y una precision considerablemente alta, por lo que no habia que andar revisando muchas transacciones ."
   ],
   "metadata": {
    "collapsed": false,
    "pycharm": {
     "name": "#%% md\n"
    }
   }
  }
 ]
}